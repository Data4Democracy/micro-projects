{
 "cells": [
  {
   "cell_type": "markdown",
   "metadata": {},
   "source": [
    "# Pulling raw data from OpenCorporates\n",
    "\n",
    "This notebook's purpose is only to pull raw data from OpenCorporates and store it in JSON format. Please don't commit the resulting file to GitHub! This is just for convenience, so that we don't have to re-download every time, but I think it would be better if only the data that we decide to include in the final dataset is made public.\n",
    "\n",
    "The API key is to be stored in an environmental variable, OC_APIKEY. It will be used here for the query."
   ]
  },
  {
   "cell_type": "code",
   "execution_count": 19,
   "metadata": {
    "collapsed": true
   },
   "outputs": [],
   "source": [
    "import os\n",
    "import sys\n",
    "import json\n",
    "import requests\n",
    "import numpy as np\n",
    "import pandas as pd"
   ]
  },
  {
   "cell_type": "code",
   "execution_count": 6,
   "metadata": {
    "collapsed": false
   },
   "outputs": [],
   "source": [
    "# First step is loading the .csv and gathering all unique company names\n",
    "tw_orgorg = pd.read_csv('https://query.data.world/s/94g9v4tj3pzz3ir495y8s3esl')\n",
    "tw_perorg = pd.read_csv('https://query.data.world/s/50ivsaqkos6vzdf4m51ntq7qc')"
   ]
  },
  {
   "cell_type": "code",
   "execution_count": 13,
   "metadata": {
    "collapsed": false
   },
   "outputs": [],
   "source": [
    "# Now gather all the company names\n",
    "org1 = tw_orgorg['Organization A'].unique()\n",
    "org2 = tw_orgorg['Organization B'].unique()\n",
    "org3 = tw_perorg['Organization'].unique()"
   ]
  },
  {
   "cell_type": "code",
   "execution_count": 43,
   "metadata": {
    "collapsed": false
   },
   "outputs": [],
   "source": [
    "all_org = sorted(list(set(org1).union(set(org2).union(set(org3)))))"
   ]
  },
  {
   "cell_type": "code",
   "execution_count": 44,
   "metadata": {
    "collapsed": false
   },
   "outputs": [
    {
     "name": "stdout",
     "output_type": "stream",
     "text": [
      "Pulling organization data from OpenCorporates...\n",
      "1608/1608"
     ]
    }
   ],
   "source": [
    "query_header = 'https://api.opencorporates.com/v0.4/companies/search'\n",
    "org_oc_data = {}\n",
    "failed_i = []\n",
    "\n",
    "print \"Pulling organization data from OpenCorporates...\"\n",
    "for i, org in enumerate(all_org):\n",
    "    sys.stdout.write(\"\\r{0:4d}/{1}\".format(i+1, len(all_org)))\n",
    "    ou_q = '+'.join([w.lower() for w in org.split()])\n",
    "    # Prepare an URL request\n",
    "    try:\n",
    "        r = requests.get(query_header, params={'q': ou_q, 'api_token': os.environ['OC_APIKEY']})\n",
    "        resp = json.loads(r.text)\n",
    "    except Exception as e:\n",
    "        # Something went wrong?\n",
    "        print \"\\nERROR: {0}\\n\".format(e)\n",
    "        failed_i.append(i)\n",
    "        continue\n",
    "    # If we did it...\n",
    "    org_oc_data[org] = resp['results']['companies']"
   ]
  },
  {
   "cell_type": "code",
   "execution_count": 45,
   "metadata": {
    "collapsed": false
   },
   "outputs": [],
   "source": [
    "# And finally save it all\n",
    "json.dump(org_oc_data, open('org_OCdata.json', 'w'))"
   ]
  },
  {
   "cell_type": "code",
   "execution_count": null,
   "metadata": {
    "collapsed": true
   },
   "outputs": [],
   "source": []
  }
 ],
 "metadata": {
  "kernelspec": {
   "display_name": "Python 2",
   "language": "python",
   "name": "python2"
  },
  "language_info": {
   "codemirror_mode": {
    "name": "ipython",
    "version": 2
   },
   "file_extension": ".py",
   "mimetype": "text/x-python",
   "name": "python",
   "nbconvert_exporter": "python",
   "pygments_lexer": "ipython2",
   "version": "2.7.13"
  }
 },
 "nbformat": 4,
 "nbformat_minor": 1
}

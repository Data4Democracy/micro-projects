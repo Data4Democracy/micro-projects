{
 "cells": [
  {
   "cell_type": "markdown",
   "metadata": {},
   "source": [
    "## TrumpWorld - analysing companies by country\n",
    "\n",
    "I'll try to cross-reference the TrumpWorld dataset (specifically, the org-org one) with OpenCorporates.com to gather as much national data as possible for these companies and attribute them a country."
   ]
  },
  {
   "cell_type": "code",
   "execution_count": 3,
   "metadata": {
    "collapsed": true
   },
   "outputs": [],
   "source": [
    "import sys\n",
    "import json\n",
    "import requests\n",
    "import urllib2 as url\n",
    "import pandas as pd\n",
    "import numpy as np\n",
    "from difflib import SequenceMatcher"
   ]
  },
  {
   "cell_type": "code",
   "execution_count": 4,
   "metadata": {
    "collapsed": true
   },
   "outputs": [],
   "source": [
    "# First step is loading the .csv and gathering all unique company names\n",
    "tw_orgorg = pd.read_csv('https://query.data.world/s/94g9v4tj3pzz3ir495y8s3esl')\n",
    "tw_perorg = pd.read_csv('https://query.data.world/s/50ivsaqkos6vzdf4m51ntq7qc')"
   ]
  },
  {
   "cell_type": "code",
   "execution_count": 5,
   "metadata": {
    "collapsed": false
   },
   "outputs": [],
   "source": [
    "org_a_uni = tw_orgorg['Organization A'].unique()\n",
    "org_b_uni = tw_orgorg['Organization B'].unique()\n",
    "org_c_uni = tw_perorg[tw_perorg.Person == 'DONALD J. TRUMP']['Organization'].unique()\n",
    "\n",
    "org_uni = np.array(list(set(np.concatenate((org_a_uni, org_b_uni, org_c_uni)))))\n",
    "org_uni.sort()"
   ]
  },
  {
   "cell_type": "code",
   "execution_count": 6,
   "metadata": {
    "collapsed": false
   },
   "outputs": [
    {
     "name": "stdout",
     "output_type": "stream",
     "text": [
      "Organisation  2/965"
     ]
    }
   ],
   "source": [
    "# Now for each of them run a query on OpenCorporates.com\n",
    "query_header = 'https://api.opencorporates.com/v0.4/companies/search'\n",
    "ocorp_data = {}\n",
    "\n",
    "for i, ou in enumerate(org_uni):\n",
    "    sys.stdout.write(\"\\rOrganisation {0:2d}/{1}\".format(i+1, len(org_uni)))\n",
    "    ou_q = '+'.join(ou.lower().split())\n",
    "    try:\n",
    "        r = requests.get(query_header, params={'q': ou_q})\n",
    "        resp = json.loads(r.text)\n",
    "    except:\n",
    "        # Something went wrong, skip\n",
    "        continue\n",
    "    comp_list = resp['results']['companies']\n",
    "    # First, did we find anything?\n",
    "    if len(comp_list) < 1:\n",
    "        continue\n",
    "    elif len(comp_list) > 1:\n",
    "        # Some quick epurations: we don't need dissoluted companies\n",
    "        comp_list = [c for c in comp_list if c['company']['dissolution_date'] is None]\n",
    "    # Second, what are the names?\n",
    "    names = [c['company']['name'] for c in comp_list]\n",
    "    # Let's check which one fits better, if there are more than one\n",
    "    if len(comp_list) == 1:\n",
    "        comp_i = 0\n",
    "    else:\n",
    "        match = [SequenceMatcher(None, ou, n).ratio() for n in names]\n",
    "        comp_i = np.argmax(match)\n",
    "        # NOTE: needs improvement as sometimes multiple matches can have the same exact name...\n",
    "    # But do we have address info?\n",
    "    address = comp_list[comp_i]['company']['registered_address']\n",
    "    if address is None or address['country'] is None:\n",
    "        continue\n",
    "    ocorp_data[ou] = address['country']"
   ]
  },
  {
   "cell_type": "markdown",
   "metadata": {},
   "source": [
    "### Distance analysis\n",
    "\n",
    "In order to better interpret the result let's get an estimate of how far the companies are from Donald J. Trump"
   ]
  },
  {
   "cell_type": "code",
   "execution_count": 78,
   "metadata": {
    "collapsed": false
   },
   "outputs": [],
   "source": [
    "import networkx as nx\n",
    "\n",
    "holdings_graph = nx.Graph()\n",
    "# Add a special node, Donald J. Trump\n",
    "holdings_graph.add_node('DONALD J. TRUMP')\n",
    "# Add all organizations as nodes\n",
    "holdings_graph.add_nodes_from(org_uni)\n",
    "# Now connections. First, direct Donald-to-organization ones\n",
    "for o in tw_perorg[tw_perorg.Person == 'DONALD J. TRUMP'].Organization:\n",
    "    holdings_graph.add_edge('DONALD J. TRUMP', o)\n",
    "# Then between organizations\n",
    "for oa, ob in zip(tw_orgorg['Organization A'], tw_orgorg['Organization B']):\n",
    "    holdings_graph.add_edge(oa, ob)"
   ]
  },
  {
   "cell_type": "code",
   "execution_count": 80,
   "metadata": {
    "collapsed": false,
    "scrolled": false
   },
   "outputs": [],
   "source": [
    "# Now compute distances\n",
    "dist_table = {}\n",
    "\n",
    "for ou in org_uni:\n",
    "    try:\n",
    "        dist = nx.shortest_path_length(holdings_graph, 'DONALD J. TRUMP', ou)\n",
    "    except nx.NetworkXNoPath:\n",
    "        dist = None\n",
    "    dist_table[ou] = dist"
   ]
  },
  {
   "cell_type": "code",
   "execution_count": null,
   "metadata": {
    "collapsed": true
   },
   "outputs": [],
   "source": []
  }
 ],
 "metadata": {
  "kernelspec": {
   "display_name": "Python 2",
   "language": "python",
   "name": "python2"
  },
  "language_info": {
   "codemirror_mode": {
    "name": "ipython",
    "version": 2
   },
   "file_extension": ".py",
   "mimetype": "text/x-python",
   "name": "python",
   "nbconvert_exporter": "python",
   "pygments_lexer": "ipython2",
   "version": "2.7.13"
  }
 },
 "nbformat": 4,
 "nbformat_minor": 1
}

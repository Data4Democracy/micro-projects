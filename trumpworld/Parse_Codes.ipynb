{
 "cells": [
  {
   "cell_type": "code",
   "execution_count": 24,
   "metadata": {
    "collapsed": true
   },
   "outputs": [],
   "source": [
    "import re\n",
    "import json"
   ]
  },
  {
   "cell_type": "code",
   "execution_count": 30,
   "metadata": {
    "collapsed": false
   },
   "outputs": [],
   "source": [
    "# Basic work to parse state and country codes\n",
    "# Start with state ones\n",
    "state_re = re.compile('([A-Z]{2})')\n",
    "state_raw = open('state_codes_raw.txt').readlines()\n",
    "\n",
    "states = {}\n",
    "\n",
    "for l in state_raw:\n",
    "    codes = state_re.split(l.strip())\n",
    "    for sname, sc in zip(codes[:-1:2], codes[1::2]):\n",
    "        states[sc] = sname.strip()\n",
    "\n",
    "json.dump(states, open('state_codes.json', 'w'))"
   ]
  },
  {
   "cell_type": "code",
   "execution_count": 35,
   "metadata": {
    "collapsed": true
   },
   "outputs": [],
   "source": [
    "# Now country ones\n",
    "country_raw = open('country_codes_raw.txt').readlines()\n",
    "\n",
    "countries = {}\n",
    "\n",
    "for l in country_raw:\n",
    "    codes = state_re.split(l.strip())\n",
    "    for sname, sc in zip(codes[:-1:2], codes[1::2]):\n",
    "        countries[sc] = sname.strip()\n",
    "\n",
    "json.dump(countries, open('country_codes.json', 'w'))"
   ]
  }
 ],
 "metadata": {
  "kernelspec": {
   "display_name": "Python 2",
   "language": "python",
   "name": "python2"
  },
  "language_info": {
   "codemirror_mode": {
    "name": "ipython",
    "version": 2
   },
   "file_extension": ".py",
   "mimetype": "text/x-python",
   "name": "python",
   "nbconvert_exporter": "python",
   "pygments_lexer": "ipython2",
   "version": "2.7.13"
  }
 },
 "nbformat": 4,
 "nbformat_minor": 2
}
